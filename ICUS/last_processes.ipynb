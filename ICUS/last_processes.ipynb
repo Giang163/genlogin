{
 "cells": [
  {
   "cell_type": "code",
   "execution_count": 5,
   "metadata": {},
   "outputs": [
    {
     "name": "stdout",
     "output_type": "stream",
     "text": [
      "Results saved to final_output.xlsx\n"
     ]
    }
   ],
   "source": [
    "import os\n",
    "import pandas as pd\n",
    "\n",
    "def merge_excel_files(folder_path):\n",
    "    dataframes = []\n",
    "    for filename in os.listdir(folder_path):\n",
    "        if filename.endswith('.xlsx'):\n",
    "            file_path = os.path.join(folder_path, filename)\n",
    "            df = pd.read_excel(file_path)\n",
    "            # Chỉ thêm df vào danh sách nếu nó có ít nhất 3 hàng\n",
    "            if len(df) >= 3:\n",
    "                dataframes.append(df)\n",
    "    return pd.concat(dataframes, ignore_index=True) if dataframes else pd.DataFrame()\n",
    "\n",
    "def calculate_average_by_product_code(df, group_field, calc_field):\n",
    "    grouped_df = df.groupby(group_field)[calc_field].mean().reset_index()\n",
    "    return grouped_df\n",
    "\n",
    "def main():\n",
    "    folder_path = 'Processed_Files'  # Đường dẫn đến thư mục chứa các file Excel\n",
    "    output_file = 'final_output.xlsx'      # Tên file xuất kết quả\n",
    "\n",
    "    # Gộp các file Excel\n",
    "    merged_df = merge_excel_files(folder_path)\n",
    "    \n",
    "    # Nếu merged_df không rỗng, thực hiện tính toán\n",
    "    if not merged_df.empty:\n",
    "        # Tính giá trị trung bình theo productCode\n",
    "        result_df = calculate_average_by_product_code(merged_df, 'productName', 'average_change_rate')\n",
    "        \n",
    "        # Lưu kết quả vào file mới\n",
    "        result_df.to_excel(output_file, index=False)\n",
    "        print(f\"Results saved to {output_file}\")\n",
    "    else:\n",
    "        print(\"No files with 3 or more records were found to merge.\")\n",
    "\n",
    "if __name__ == '__main__':\n",
    "    main()\n"
   ]
  }
 ],
 "metadata": {
  "kernelspec": {
   "display_name": "base",
   "language": "python",
   "name": "python3"
  },
  "language_info": {
   "codemirror_mode": {
    "name": "ipython",
    "version": 3
   },
   "file_extension": ".py",
   "mimetype": "text/x-python",
   "name": "python",
   "nbconvert_exporter": "python",
   "pygments_lexer": "ipython3",
   "version": "3.9.12"
  }
 },
 "nbformat": 4,
 "nbformat_minor": 2
}
