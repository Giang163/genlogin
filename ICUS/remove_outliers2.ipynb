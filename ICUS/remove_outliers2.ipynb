{
 "cells": [
  {
   "cell_type": "code",
   "execution_count": 25,
   "metadata": {},
   "outputs": [],
   "source": [
    "import os\n",
    "import pandas as pd"
   ]
  },
  {
   "cell_type": "code",
   "execution_count": 26,
   "metadata": {},
   "outputs": [],
   "source": [
    "def load_dataframe(file_path):\n",
    "    \"\"\"Load data from a excel file into a DataFrame.\"\"\"\n",
    "    return pd.read_excel(file_path)"
   ]
  },
  {
   "cell_type": "code",
   "execution_count": 27,
   "metadata": {},
   "outputs": [],
   "source": [
    "def calculate_quantiles(df, column):\n",
    "    \"\"\"Calculate the first and third quantiles of a specified column in a DataFrame.\"\"\"\n",
    "    q1 = df[column].quantile(0.25)\n",
    "    q3 = df[column].quantile(0.75)\n",
    "    return q1, q3"
   ]
  },
  {
   "cell_type": "code",
   "execution_count": 28,
   "metadata": {},
   "outputs": [],
   "source": [
    "def filter_data_by_quantiles(df, column):\n",
    "    \"\"\"Filter the DataFrame rows based on quantile range of a specified column.\"\"\"\n",
    "    q1, q3 = calculate_quantiles(df, column)\n",
    "    within_range = df[(df[column] > q1) & (df[column] < q3)]\n",
    "    outliers = df[(df[column] <= q1) | (df[column] >= q3)]\n",
    "    return within_range, outliers"
   ]
  },
  {
   "cell_type": "code",
   "execution_count": 29,
   "metadata": {},
   "outputs": [],
   "source": [
    "def save_dataframes(df, path, filename):\n",
    "    if not df.empty:\n",
    "        df.to_excel(os.path.join(path, filename), index=False)\n",
    "        print(f\"Data saved to {path}/{filename}\")\n",
    "    else:\n",
    "        print(f\"No data to save for {filename}\")"
   ]
  },
  {
   "cell_type": "code",
   "execution_count": 30,
   "metadata": {},
   "outputs": [],
   "source": [
    "def process_files_in_folder(folder_path):\n",
    "    processed_path = os.path.abspath(os.path.join(folder_path, '..', 'Processed_Files'))\n",
    "    outlier_path = os.path.abspath(os.path.join(folder_path, '..', 'Outlier_Files'))\n",
    "    os.makedirs(processed_path, exist_ok=True)\n",
    "    os.makedirs(outlier_path, exist_ok=True)\n",
    "\n",
    "    for filename in os.listdir(folder_path):\n",
    "        if filename.endswith('.xlsx'):\n",
    "            file_path = os.path.join(folder_path, filename)\n",
    "            df = load_dataframe(file_path)\n",
    "            within_range, outliers = filter_data_by_quantiles(df, 'average_change_rate')\n",
    "            \n",
    "            base_filename = filename[:-4]  # Remove .csv extension\n",
    "            within_filename = f\"{base_filename}_within_day_outliers.xlsx\"\n",
    "            outlier_filename = f\"{base_filename}_outliers.xlsx\"\n",
    "            \n",
    "            save_dataframes(within_range, processed_path, within_filename)\n",
    "            save_dataframes(outliers, outlier_path, outlier_filename)"
   ]
  },
  {
   "cell_type": "code",
   "execution_count": 31,
   "metadata": {},
   "outputs": [],
   "source": [
    "def main():\n",
    "    folder_path = 'E:\\Python 2023\\Genlogin\\ICUS\\productCode_files'\n",
    "    process_files_in_folder(folder_path)\n",
    "    print(\"All files have been processed successfully!\")\n"
   ]
  },
  {
   "cell_type": "code",
   "execution_count": 32,
   "metadata": {},
   "outputs": [
    {
     "name": "stdout",
     "output_type": "stream",
     "text": [
      "Data saved to E:\\Python 2023\\Genlogin\\ICUS\\Processed_Files/DD001._within_day_outliers.xlsx\n",
      "Data saved to E:\\Python 2023\\Genlogin\\ICUS\\Outlier_Files/DD001._outliers.xlsx\n",
      "Data saved to E:\\Python 2023\\Genlogin\\ICUS\\Processed_Files/DD003._within_day_outliers.xlsx\n",
      "Data saved to E:\\Python 2023\\Genlogin\\ICUS\\Outlier_Files/DD003._outliers.xlsx\n",
      "Data saved to E:\\Python 2023\\Genlogin\\ICUS\\Processed_Files/DD004._within_day_outliers.xlsx\n",
      "Data saved to E:\\Python 2023\\Genlogin\\ICUS\\Outlier_Files/DD004._outliers.xlsx\n",
      "Data saved to E:\\Python 2023\\Genlogin\\ICUS\\Processed_Files/DFT002._within_day_outliers.xlsx\n",
      "Data saved to E:\\Python 2023\\Genlogin\\ICUS\\Outlier_Files/DFT002._outliers.xlsx\n",
      "Data saved to E:\\Python 2023\\Genlogin\\ICUS\\Processed_Files/DVC001._within_day_outliers.xlsx\n",
      "Data saved to E:\\Python 2023\\Genlogin\\ICUS\\Outlier_Files/DVC001._outliers.xlsx\n",
      "Data saved to E:\\Python 2023\\Genlogin\\ICUS\\Processed_Files/DVC002._within_day_outliers.xlsx\n",
      "Data saved to E:\\Python 2023\\Genlogin\\ICUS\\Outlier_Files/DVC002._outliers.xlsx\n",
      "Data saved to E:\\Python 2023\\Genlogin\\ICUS\\Processed_Files/DVC003._within_day_outliers.xlsx\n",
      "Data saved to E:\\Python 2023\\Genlogin\\ICUS\\Outlier_Files/DVC003._outliers.xlsx\n",
      "Data saved to E:\\Python 2023\\Genlogin\\ICUS\\Processed_Files/DVC004._within_day_outliers.xlsx\n",
      "Data saved to E:\\Python 2023\\Genlogin\\ICUS\\Outlier_Files/DVC004._outliers.xlsx\n",
      "Data saved to E:\\Python 2023\\Genlogin\\ICUS\\Processed_Files/DVC005._within_day_outliers.xlsx\n",
      "Data saved to E:\\Python 2023\\Genlogin\\ICUS\\Outlier_Files/DVC005._outliers.xlsx\n",
      "No data to save for DVC006._within_day_outliers.xlsx\n",
      "Data saved to E:\\Python 2023\\Genlogin\\ICUS\\Outlier_Files/DVC006._outliers.xlsx\n",
      "No data to save for DVC007._within_day_outliers.xlsx\n",
      "Data saved to E:\\Python 2023\\Genlogin\\ICUS\\Outlier_Files/DVC007._outliers.xlsx\n",
      "Data saved to E:\\Python 2023\\Genlogin\\ICUS\\Processed_Files/DVC008._within_day_outliers.xlsx\n",
      "Data saved to E:\\Python 2023\\Genlogin\\ICUS\\Outlier_Files/DVC008._outliers.xlsx\n",
      "Data saved to E:\\Python 2023\\Genlogin\\ICUS\\Processed_Files/DVC009._within_day_outliers.xlsx\n",
      "Data saved to E:\\Python 2023\\Genlogin\\ICUS\\Outlier_Files/DVC009._outliers.xlsx\n",
      "Data saved to E:\\Python 2023\\Genlogin\\ICUS\\Processed_Files/DVC010._within_day_outliers.xlsx\n",
      "Data saved to E:\\Python 2023\\Genlogin\\ICUS\\Outlier_Files/DVC010._outliers.xlsx\n",
      "No data to save for DVC011._within_day_outliers.xlsx\n",
      "Data saved to E:\\Python 2023\\Genlogin\\ICUS\\Outlier_Files/DVC011._outliers.xlsx\n",
      "No data to save for DVC013._within_day_outliers.xlsx\n",
      "Data saved to E:\\Python 2023\\Genlogin\\ICUS\\Outlier_Files/DVC013._outliers.xlsx\n",
      "Data saved to E:\\Python 2023\\Genlogin\\ICUS\\Processed_Files/DVC015._within_day_outliers.xlsx\n",
      "Data saved to E:\\Python 2023\\Genlogin\\ICUS\\Outlier_Files/DVC015._outliers.xlsx\n",
      "Data saved to E:\\Python 2023\\Genlogin\\ICUS\\Processed_Files/PHMG001._within_day_outliers.xlsx\n",
      "Data saved to E:\\Python 2023\\Genlogin\\ICUS\\Outlier_Files/PHMG001._outliers.xlsx\n",
      "Data saved to E:\\Python 2023\\Genlogin\\ICUS\\Processed_Files/PHMG003._within_day_outliers.xlsx\n",
      "Data saved to E:\\Python 2023\\Genlogin\\ICUS\\Outlier_Files/PHMG003._outliers.xlsx\n",
      "No data to save for PHMG005._within_day_outliers.xlsx\n",
      "Data saved to E:\\Python 2023\\Genlogin\\ICUS\\Outlier_Files/PHMG005._outliers.xlsx\n",
      "Data saved to E:\\Python 2023\\Genlogin\\ICUS\\Processed_Files/PHMT001._within_day_outliers.xlsx\n",
      "Data saved to E:\\Python 2023\\Genlogin\\ICUS\\Outlier_Files/PHMT001._outliers.xlsx\n",
      "Data saved to E:\\Python 2023\\Genlogin\\ICUS\\Processed_Files/PHMT002._within_day_outliers.xlsx\n",
      "Data saved to E:\\Python 2023\\Genlogin\\ICUS\\Outlier_Files/PHMT002._outliers.xlsx\n",
      "Data saved to E:\\Python 2023\\Genlogin\\ICUS\\Processed_Files/PHMT003._within_day_outliers.xlsx\n",
      "Data saved to E:\\Python 2023\\Genlogin\\ICUS\\Outlier_Files/PHMT003._outliers.xlsx\n",
      "Data saved to E:\\Python 2023\\Genlogin\\ICUS\\Processed_Files/PHVT001._within_day_outliers.xlsx\n",
      "Data saved to E:\\Python 2023\\Genlogin\\ICUS\\Outlier_Files/PHVT001._outliers.xlsx\n",
      "Data saved to E:\\Python 2023\\Genlogin\\ICUS\\Processed_Files/PHVT003._within_day_outliers.xlsx\n",
      "Data saved to E:\\Python 2023\\Genlogin\\ICUS\\Outlier_Files/PHVT003._outliers.xlsx\n",
      "No data to save for SP000005._within_day_outliers.xlsx\n",
      "Data saved to E:\\Python 2023\\Genlogin\\ICUS\\Outlier_Files/SP000005._outliers.xlsx\n",
      "No data to save for SP000006._within_day_outliers.xlsx\n",
      "Data saved to E:\\Python 2023\\Genlogin\\ICUS\\Outlier_Files/SP000006._outliers.xlsx\n",
      "Data saved to E:\\Python 2023\\Genlogin\\ICUS\\Processed_Files/SP000007{DEL}._within_day_outliers.xlsx\n",
      "Data saved to E:\\Python 2023\\Genlogin\\ICUS\\Outlier_Files/SP000007{DEL}._outliers.xlsx\n",
      "No data to save for SP000009._within_day_outliers.xlsx\n",
      "Data saved to E:\\Python 2023\\Genlogin\\ICUS\\Outlier_Files/SP000009._outliers.xlsx\n",
      "Data saved to E:\\Python 2023\\Genlogin\\ICUS\\Processed_Files/VSG001._within_day_outliers.xlsx\n",
      "Data saved to E:\\Python 2023\\Genlogin\\ICUS\\Outlier_Files/VSG001._outliers.xlsx\n",
      "Data saved to E:\\Python 2023\\Genlogin\\ICUS\\Processed_Files/VSG002._within_day_outliers.xlsx\n",
      "Data saved to E:\\Python 2023\\Genlogin\\ICUS\\Outlier_Files/VSG002._outliers.xlsx\n",
      "Data saved to E:\\Python 2023\\Genlogin\\ICUS\\Processed_Files/VSG003._within_day_outliers.xlsx\n",
      "Data saved to E:\\Python 2023\\Genlogin\\ICUS\\Outlier_Files/VSG003._outliers.xlsx\n",
      "No data to save for VSG004._within_day_outliers.xlsx\n",
      "Data saved to E:\\Python 2023\\Genlogin\\ICUS\\Outlier_Files/VSG004._outliers.xlsx\n",
      "Data saved to E:\\Python 2023\\Genlogin\\ICUS\\Processed_Files/VSG005._within_day_outliers.xlsx\n",
      "Data saved to E:\\Python 2023\\Genlogin\\ICUS\\Outlier_Files/VSG005._outliers.xlsx\n",
      "Data saved to E:\\Python 2023\\Genlogin\\ICUS\\Processed_Files/VST001._within_day_outliers.xlsx\n",
      "Data saved to E:\\Python 2023\\Genlogin\\ICUS\\Outlier_Files/VST001._outliers.xlsx\n",
      "Data saved to E:\\Python 2023\\Genlogin\\ICUS\\Processed_Files/VST002._within_day_outliers.xlsx\n",
      "Data saved to E:\\Python 2023\\Genlogin\\ICUS\\Outlier_Files/VST002._outliers.xlsx\n",
      "Data saved to E:\\Python 2023\\Genlogin\\ICUS\\Processed_Files/VST003._within_day_outliers.xlsx\n",
      "Data saved to E:\\Python 2023\\Genlogin\\ICUS\\Outlier_Files/VST003._outliers.xlsx\n",
      "All files have been processed successfully!\n"
     ]
    }
   ],
   "source": [
    "if __name__ == '__main__':\n",
    "    main()"
   ]
  }
 ],
 "metadata": {
  "kernelspec": {
   "display_name": "base",
   "language": "python",
   "name": "python3"
  },
  "language_info": {
   "codemirror_mode": {
    "name": "ipython",
    "version": 3
   },
   "file_extension": ".py",
   "mimetype": "text/x-python",
   "name": "python",
   "nbconvert_exporter": "python",
   "pygments_lexer": "ipython3",
   "version": "3.9.12"
  }
 },
 "nbformat": 4,
 "nbformat_minor": 2
}
