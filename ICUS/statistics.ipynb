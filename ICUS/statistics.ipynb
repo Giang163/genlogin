{
 "cells": [
  {
   "cell_type": "code",
   "execution_count": 1,
   "metadata": {},
   "outputs": [
    {
     "name": "stdout",
     "output_type": "stream",
     "text": [
      "Missing required columns in aggregated_median_results.xlsx\n",
      "Aggregated results saved to 'aggregated_results.xlsx'\n"
     ]
    }
   ],
   "source": [
    "import os\n",
    "import pandas as pd\n",
    "from scipy import stats\n",
    "\n",
    "def calculate_statistics_from_files(folder_path):\n",
    "    results = []  # Danh sách để lưu trữ kết quả\n",
    "\n",
    "    # Duyệt qua các file trong thư mục\n",
    "    for filename in os.listdir(folder_path):\n",
    "        if filename.endswith('.xlsx'):  # Chỉ xử lý các file Excel\n",
    "            file_path = os.path.join(folder_path, filename)\n",
    "            df = pd.read_excel(file_path)\n",
    "            \n",
    "            # Đảm bảo rằng các cột cần thiết tồn tại trong DataFrame\n",
    "            if {'customerCode', 'productCode', 'productName', 'average_change_rate'}.issubset(df.columns):\n",
    "                # Tính median, mean và mode của average_change_rate\n",
    "                median_value = df['average_change_rate'].median()\n",
    "                mean_value = df['average_change_rate'].mean()\n",
    "                mode_value = df['average_change_rate'].mode()[0]  # Lấy mode đầu tiên nếu có nhiều mode\n",
    "\n",
    "                # Lấy productCode và productName đầu tiên (giả sử chúng nhất quán trong file)\n",
    "                product_code = df['productCode'].iloc[0]\n",
    "                product_name = df['productName'].iloc[0]\n",
    "                \n",
    "                # Lưu kết quả vào danh sách\n",
    "                results.append({\n",
    "                    'productCode': product_code,\n",
    "                    'productName': product_name,\n",
    "                    'median_average_change_rate': median_value,\n",
    "                    'mean_average_change_rate': mean_value,\n",
    "                    'mode_average_change_rate': mode_value\n",
    "                })\n",
    "            else:\n",
    "                print(f\"Missing required columns in {filename}\")\n",
    "\n",
    "    # Tạo DataFrame từ kết quả\n",
    "    results_df = pd.DataFrame(results)\n",
    "\n",
    "    # Lưu kết quả vào một file Excel mới\n",
    "    results_df.to_excel(os.path.join(folder_path, 'aggregated_results.xlsx'), index=False)\n",
    "    print(\"Aggregated results saved to 'aggregated_results.xlsx'\")\n",
    "\n",
    "def main():\n",
    "    folder_path = 'E:\\\\Python 2023\\\\Genlogin\\\\ICUS\\\\productCode_files'  \n",
    "    calculate_statistics_from_files(folder_path)\n",
    "\n",
    "if __name__ == '__main__':\n",
    "    main()\n"
   ]
  }
 ],
 "metadata": {
  "kernelspec": {
   "display_name": "base",
   "language": "python",
   "name": "python3"
  },
  "language_info": {
   "codemirror_mode": {
    "name": "ipython",
    "version": 3
   },
   "file_extension": ".py",
   "mimetype": "text/x-python",
   "name": "python",
   "nbconvert_exporter": "python",
   "pygments_lexer": "ipython3",
   "version": "3.9.12"
  }
 },
 "nbformat": 4,
 "nbformat_minor": 2
}
